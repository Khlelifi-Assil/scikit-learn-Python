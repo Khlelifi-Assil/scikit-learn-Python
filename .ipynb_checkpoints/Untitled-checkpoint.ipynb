{
 "cells": [
  {
   "cell_type": "code",
   "execution_count": null,
   "id": "b1f5aa3d-f81e-4c3e-a87a-a69fe79b1b96",
   "metadata": {},
   "outputs": [],
   "source": [
    "import pandas as pd\n",
    "import sklearn\n",
    "from sklearn.model_selection import train_test_split\n",
    "#traitement du fichier csv\n",
    "df = pd.read_csv( 'C:/Users/48795N/Desktop/projet/datasets/telecom.csv')\n",
    "from sklearn.tree import DecisionTreeClassifier"
   ]
  },
  {
   "cell_type": "code",
   "execution_count": null,
   "id": "00161dda-8d28-499c-ad51-49f5f4302a33",
   "metadata": {},
   "outputs": [],
   "source": [
    "print(df.shape)"
   ]
  },
  {
   "cell_type": "code",
   "execution_count": null,
   "id": "824da77c-7757-4b18-822a-b23e4ea067f8",
   "metadata": {},
   "outputs": [],
   "source": [
    "print(df.head())"
   ]
  },
  {
   "cell_type": "code",
   "execution_count": null,
   "id": "0cf9c954-25f5-4d35-8815-6d2d7b170411",
   "metadata": {},
   "outputs": [],
   "source": [
    "print(df.info())"
   ]
  },
  {
   "cell_type": "code",
   "execution_count": null,
   "id": "29886b01-35e3-4fee-b9f4-22e8b6626f99",
   "metadata": {},
   "outputs": [],
   "source": [
    "print(df.Churn.value_counts())\n"
   ]
  },
  {
   "cell_type": "code",
   "execution_count": null,
   "id": "99125261-d736-404c-9f7b-22ebd371ac1e",
   "metadata": {},
   "outputs": [],
   "source": [
    "print(df.Churn.value_counts(normalize=True))\n"
   ]
  },
  {
   "cell_type": "code",
   "execution_count": null,
   "id": "c764037c-9495-4499-a284-8e82b8eef670",
   "metadata": {},
   "outputs": [],
   "source": [
    "#subdiviser les données en échantillons d'apprentissage et de test\n",
    "from sklearn.model_selection import train_test_split\n",
    "dfTrain, dfTest = train_test_split(df,test_size=300,random_state=1,stratify=df.Churn)"
   ]
  },
  {
   "cell_type": "code",
   "execution_count": null,
   "id": "d8e44649-4593-422f-aae1-edfd2621b577",
   "metadata": {},
   "outputs": [],
   "source": [
    "#vérification des dimensions\n",
    "print(dfTrain.shape)\n",
    "print(dfTest.shape)"
   ]
  },
  {
   "cell_type": "code",
   "execution_count": null,
   "id": "6b969afa-cedf-4f54-857c-0dd221ed1a43",
   "metadata": {},
   "outputs": [],
   "source": [
    "#vérification des distributions en apprentissage\n",
    "print(dfTrain.Churn.value_counts(normalize=True))"
   ]
  },
  {
   "cell_type": "code",
   "execution_count": null,
   "id": "9b9aaded-4cd5-4419-8c64-d2902a5339d0",
   "metadata": {},
   "outputs": [],
   "source": [
    "#vérification des distributions en test\n",
    "print(dfTest.Churn.value_counts(normalize=True))"
   ]
  },
  {
   "cell_type": "code",
   "execution_count": null,
   "id": "54272a70-cfab-4c7a-9c14-40c3ba2de7a5",
   "metadata": {},
   "outputs": [],
   "source": [
    "#instanciation de l'arbre\n",
    "from sklearn.tree import DecisionTreeClassifier\n",
    "arbreFirst = DecisionTreeClassifier(min_samples_split=30,min_samples_leaf=10)\n",
    "X = dfTrain.iloc[:,8:10].astype(int)\n",
    "y = dfTrain.Churn"
   ]
  },
  {
   "cell_type": "code",
   "execution_count": null,
   "id": "4f005a4a-148b-47dd-9ce0-caa01ae8632d",
   "metadata": {},
   "outputs": [],
   "source": [
    "#construction de l'arbre\n",
    "arbreFirst.fit(X = dfTrain.iloc[:,8:10].astype(int), y = dfTrain.Churn)"
   ]
  },
  {
   "cell_type": "code",
   "execution_count": null,
   "id": "96f30dcd-224d-4b54-a86e-e6712c681b31",
   "metadata": {},
   "outputs": [],
   "source": [
    "print(dfTrain.iloc[:,8:10])\n"
   ]
  },
  {
   "cell_type": "code",
   "execution_count": null,
   "id": "ad3bfad2-f9fb-448e-961b-8cd5eb3c175f",
   "metadata": {},
   "outputs": [],
   "source": [
    "from sklearn.tree import plot_tree\n",
    "plot_tree(arbreFirst,feature_names = list(df.columns[:-1]),filled=True)\n"
   ]
  },
  {
   "cell_type": "code",
   "execution_count": null,
   "id": "deb2e5c8-b668-4010-b473-9070d5e06f27",
   "metadata": {},
   "outputs": [],
   "source": [
    "import matplotlib.pyplot as plt\n",
    "plt.figure(figsize=(10,10))\n",
    "plot_tree(arbreFirst,feature_names = list(df.columns[:-1]),filled=True)\n",
    "plt.show()\n"
   ]
  },
  {
   "cell_type": "code",
   "execution_count": null,
   "id": "eb227809-9fe1-488b-b7c8-974d9042d887",
   "metadata": {},
   "outputs": [],
   "source": [
    "from sklearn.tree import export_text\n",
    "tree_rules = export_text(arbreFirst,feature_names = list(df.columns[8:10]),show_weights=True)"
   ]
  },
  {
   "cell_type": "code",
   "execution_count": null,
   "id": "f7a69957-e0a2-47b9-9f7e-2376fa996a7d",
   "metadata": {},
   "outputs": [],
   "source": [
    "#importance des variables\n",
    "impVarFirst={\"Variable\":df.columns[8:10],\"Importance\":arbreFirst.feature_importances_}\n",
    "print(pd.DataFrame(impVarFirst).sort_values(by=\"Importance\",ascending=False))"
   ]
  },
  {
   "cell_type": "code",
   "execution_count": null,
   "id": "9ee472bd-f6d2-4e71-b5f8-88e7ab522c08",
   "metadata": {},
   "outputs": [],
   "source": [
    "#prédiction sur l'échantillon test\n",
    "predFirst = arbreFirst.predict(X=dfTest.iloc[:,8:10])\n",
    "#distribution des predictions\n",
    "import numpy\n",
    "print(numpy.unique(predFirst,return_counts=True))\n"
   ]
  },
  {
   "cell_type": "code",
   "execution_count": null,
   "id": "547d70b9-39f2-43e1-a243-4bea4c241652",
   "metadata": {},
   "outputs": [],
   "source": [
    "#matrice de confusion\n",
    "from sklearn import metrics\n",
    "print(metrics.confusion_matrix(dfTest.Churn,predFirst))"
   ]
  },
  {
   "cell_type": "code",
   "execution_count": null,
   "id": "0e6dede3-109b-4c05-9c70-6b70ee825084",
   "metadata": {},
   "outputs": [],
   "source": [
    "#taux de reconnaissance – (189+93)/300\n",
    "print(metrics.accuracy_score(dfTest.Churn,predFirst))"
   ]
  },
  {
   "cell_type": "code",
   "execution_count": null,
   "id": "25590d70-f8ba-4dc6-950f-5efac06a8dd3",
   "metadata": {},
   "outputs": [],
   "source": [
    "#taux d'erreur \n",
    "print(1.0 - metrics.accuracy_score(dfTest.Churn,predFirst))"
   ]
  },
  {
   "cell_type": "code",
   "execution_count": null,
   "id": "dff2af54-603f-47cf-83c2-ee373e62e16f",
   "metadata": {},
   "outputs": [],
   "source": [
    "#rappel – sensibilité \n",
    "print(metrics.recall_score(dfTest.Churn,predFirst,pos_label='True.'))"
   ]
  },
  {
   "cell_type": "code",
   "execution_count": null,
   "id": "6277a0f2-154d-40d4-8606-742a01cba292",
   "metadata": {},
   "outputs": [],
   "source": [
    "#rapport de prédiction\n",
    "print(metrics.classification_report(dfTest.Churn,predFirst))"
   ]
  },
  {
   "cell_type": "code",
   "execution_count": null,
   "id": "f064c0b6-4e47-4064-88a4-d94d7305941d",
   "metadata": {},
   "outputs": [],
   "source": [
    "#modifier les paramètres d'apprentissage\n",
    "arbreSecond = DecisionTreeClassifier(min_samples_split=30,min_samples_leaf=10,max_leaf_nodes=6)\n",
    "#construction de l'arbre\n",
    "arbreSecond.fit(X = dfTrain.iloc[:,8:10], y = dfTrain.Churn)\n",
    "#affichage graphique de l'arbre\n",
    "plot_tree(arbreSecond,feature_names = list(df.columns[:-1]),filled=True)"
   ]
  },
  {
   "cell_type": "code",
   "execution_count": null,
   "id": "57ae0d49-7741-4f15-857e-301dcc21e177",
   "metadata": {},
   "outputs": [],
   "source": [
    "#prédiction sur l'échantillon test\n",
    "predSecond = arbreSecond.predict(X=dfTest.iloc[:,8:10])\n",
    "#matrice de confusion\n",
    "print(metrics.confusion_matrix(dfTest.Churn,predSecond))"
   ]
  },
  {
   "cell_type": "code",
   "execution_count": null,
   "id": "d573052f-d646-495e-bc61-04add13a553f",
   "metadata": {},
   "outputs": [],
   "source": [
    "#taux de reconnaissance\n",
    "print(metrics.accuracy_score(dfTest.Churn,predSecond))"
   ]
  },
  {
   "cell_type": "code",
   "execution_count": null,
   "id": "c1753c03-0721-496e-992c-5aaf9e4153ec",
   "metadata": {},
   "outputs": [],
   "source": []
  },
  {
   "cell_type": "code",
   "execution_count": null,
   "id": "2c4329a2-d33c-423b-9693-87d31fd54179",
   "metadata": {},
   "outputs": [],
   "source": []
  },
  {
   "cell_type": "code",
   "execution_count": null,
   "id": "f4401bf9-fec8-4786-b307-6ec707007bec",
   "metadata": {},
   "outputs": [],
   "source": []
  },
  {
   "cell_type": "code",
   "execution_count": null,
   "id": "b8ec31a8-0b04-47e2-ab3b-c263dd038301",
   "metadata": {},
   "outputs": [],
   "source": []
  },
  {
   "cell_type": "code",
   "execution_count": null,
   "id": "285027eb-a490-4d53-9dcb-aa3103f80ee4",
   "metadata": {},
   "outputs": [],
   "source": []
  },
  {
   "cell_type": "code",
   "execution_count": null,
   "id": "6be36daa-d0f9-41bf-b70b-560101d97eed",
   "metadata": {},
   "outputs": [],
   "source": []
  }
 ],
 "metadata": {
  "kernelspec": {
   "display_name": "Python 3 (ipykernel)",
   "language": "python",
   "name": "python3"
  },
  "language_info": {
   "codemirror_mode": {
    "name": "ipython",
    "version": 3
   },
   "file_extension": ".py",
   "mimetype": "text/x-python",
   "name": "python",
   "nbconvert_exporter": "python",
   "pygments_lexer": "ipython3",
   "version": "3.10.0"
  }
 },
 "nbformat": 4,
 "nbformat_minor": 5
}
